{
 "cells": [
  {
   "cell_type": "code",
   "execution_count": 8,
   "metadata": {},
   "outputs": [],
   "source": [
    "import torch\n",
    "import torch.nn as nn\n",
    "import matplotlib.pyplot as plt\n",
    "import numpy as np\n",
    "from scipy.integrate import odeint\n",
    "#import mplcyberpunk\n",
    "import tqdm\n",
    "from functions import nth_derivative#, Param_dirich"
   ]
  },
  {
   "cell_type": "code",
   "execution_count": 11,
   "metadata": {},
   "outputs": [
    {
     "name": "stdout",
     "output_type": "stream",
     "text": [
      "Sequential(\n",
      "  (0): Linear(in_features=2, out_features=25, bias=True)\n",
      "  (1): Tanh()\n",
      "  (2): Linear(in_features=25, out_features=25, bias=True)\n",
      "  (3): Tanh()\n",
      "  (4): Linear(in_features=25, out_features=1, bias=True)\n",
      ")\n"
     ]
    }
   ],
   "source": [
    "nodos=25\n",
    "ANN = nn.Sequential(nn.Linear(2, nodos), nn.Tanh(), nn.Linear(nodos,nodos),\n",
    "                    #nn.Tanh(), nn.Linear(nodos,nodos),\n",
    "                    #nn.Tanh(), nn.Linear(nodos,nodos),\n",
    "                    #nn.Tanh(), nn.Linear(nodos,nodos),\n",
    "                    # nn.Tanh(), nn.Linear(nodos,nodos)\n",
    "                    nn.Tanh(),nn.Linear(nodos,1))\n",
    "print(ANN)"
   ]
  },
  {
   "cell_type": "code",
   "execution_count": 10,
   "metadata": {},
   "outputs": [
    {
     "name": "stderr",
     "output_type": "stream",
     "text": [
      "/home/kingsman/.local/lib/python3.10/site-packages/torch/cuda/__init__.py:138: UserWarning: CUDA initialization: CUDA unknown error - this may be due to an incorrectly set up environment, e.g. changing env variable CUDA_VISIBLE_DEVICES after program start. Setting the available devices to be zero. (Triggered internally at ../c10/cuda/CUDAFunctions.cpp:108.)\n",
      "  return torch._C._cuda_getDeviceCount() > 0\n"
     ]
    }
   ],
   "source": [
    "zi=0.0\n",
    "zf=3.0\n",
    "#t=torch.linspace(zi,zf,150).view(-1,1)\n",
    "x0_i=0.2\n",
    "x0_f=0.5\n",
    "\n",
    "T=torch.cartesian_prod(torch.linspace(zi,zf,1000),\n",
    "                       torch.linspace(x0_i,x0_f,30))\n",
    "\n",
    "#random permutation of the training dataset T\n",
    "T=T[torch.randperm(T.shape[0])]\n",
    "\n",
    "#if avaliable, use cuda\n",
    "if torch.cuda.is_available(): T.cuda()\n"
   ]
  },
  {
   "cell_type": "code",
   "execution_count": 12,
   "metadata": {},
   "outputs": [],
   "source": [
    "#observational data:\n",
    "datosH=np.loadtxt('datosH.txt')\n",
    "datosH = torch.Tensor(datosH)\n",
    "z=datosH[:,0].view(-1,1)\n",
    "H=datosH[:,1].view(-1,1)"
   ]
  },
  {
   "cell_type": "code",
   "execution_count": null,
   "metadata": {},
   "outputs": [],
   "source": []
  },
  {
   "cell_type": "code",
   "execution_count": null,
   "metadata": {},
   "outputs": [],
   "source": []
  },
  {
   "cell_type": "code",
   "execution_count": null,
   "metadata": {},
   "outputs": [],
   "source": []
  },
  {
   "cell_type": "code",
   "execution_count": null,
   "metadata": {},
   "outputs": [],
   "source": []
  },
  {
   "cell_type": "code",
   "execution_count": null,
   "metadata": {},
   "outputs": [],
   "source": []
  }
 ],
 "metadata": {
  "kernelspec": {
   "display_name": "Python 3",
   "language": "python",
   "name": "python3"
  },
  "language_info": {
   "codemirror_mode": {
    "name": "ipython",
    "version": 3
   },
   "file_extension": ".py",
   "mimetype": "text/x-python",
   "name": "python",
   "nbconvert_exporter": "python",
   "pygments_lexer": "ipython3",
   "version": "3.10.12"
  }
 },
 "nbformat": 4,
 "nbformat_minor": 2
}
